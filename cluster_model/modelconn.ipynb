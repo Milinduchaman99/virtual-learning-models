{
 "cells": [
  {
   "cell_type": "code",
   "execution_count": 1,
   "metadata": {},
   "outputs": [
    {
     "name": "stdout",
     "output_type": "stream",
     "text": [
      "Requirement already satisfied: h5py in c:\\python312\\lib\\site-packages (3.10.0)\n",
      "Requirement already satisfied: numpy>=1.17.3 in c:\\python312\\lib\\site-packages (from h5py) (1.26.0)\n"
     ]
    },
    {
     "name": "stderr",
     "output_type": "stream",
     "text": [
      "\n",
      "[notice] A new release of pip is available: 23.3.1 -> 23.3.2\n",
      "[notice] To update, run: python.exe -m pip install --upgrade pip\n",
      "\n",
      "[notice] A new release of pip is available: 23.3.1 -> 23.3.2\n",
      "[notice] To update, run: python.exe -m pip install --upgrade pip\n"
     ]
    },
    {
     "name": "stdout",
     "output_type": "stream",
     "text": [
      "Requirement already satisfied: Flask-CORS in c:\\python312\\lib\\site-packages (4.0.0)\n",
      "Requirement already satisfied: Flask>=0.9 in c:\\python312\\lib\\site-packages (from Flask-CORS) (3.0.0)\n",
      "Requirement already satisfied: Werkzeug>=3.0.0 in c:\\python312\\lib\\site-packages (from Flask>=0.9->Flask-CORS) (3.0.0)\n",
      "Requirement already satisfied: Jinja2>=3.1.2 in c:\\python312\\lib\\site-packages (from Flask>=0.9->Flask-CORS) (3.1.2)\n",
      "Requirement already satisfied: itsdangerous>=2.1.2 in c:\\python312\\lib\\site-packages (from Flask>=0.9->Flask-CORS) (2.1.2)\n",
      "Requirement already satisfied: click>=8.1.3 in c:\\python312\\lib\\site-packages (from Flask>=0.9->Flask-CORS) (8.1.7)\n",
      "Requirement already satisfied: blinker>=1.6.2 in c:\\python312\\lib\\site-packages (from Flask>=0.9->Flask-CORS) (1.6.3)\n",
      "Requirement already satisfied: colorama in c:\\users\\user\\appdata\\roaming\\python\\python312\\site-packages (from click>=8.1.3->Flask>=0.9->Flask-CORS) (0.4.6)\n",
      "Requirement already satisfied: MarkupSafe>=2.0 in c:\\python312\\lib\\site-packages (from Jinja2>=3.1.2->Flask>=0.9->Flask-CORS) (2.1.3)\n"
     ]
    }
   ],
   "source": [
    "!pip install h5py\n",
    "!pip install Flask-CORS\n",
    "from flask_cors import CORS\n"
   ]
  },
  {
   "cell_type": "code",
   "execution_count": 2,
   "metadata": {},
   "outputs": [
    {
     "name": "stdout",
     "output_type": "stream",
     "text": [
      "Data point 0 is in cluster 0\n"
     ]
    }
   ],
   "source": [
    "import h5py\n",
    "import pandas as pd\n",
    "import numpy as np\n",
    "from sklearn.cluster import KMeans\n",
    "\n",
    "# Load the K-Means model\n",
    "model_file = 'Cluster_model.h5'  # Replace with the actual file path\n",
    "with h5py.File(model_file, 'r') as f:\n",
    "    # Load the cluster centers from the h5 file\n",
    "    cluster_centers = np.array(f['cluster_centers'])\n",
    "\n",
    "# Define your data as a pandas DataFrame (replace this with your actual data)\n",
    "def predict_cluster(response_time, response_mark, attendance, user_response):\n",
    "    data = pd.DataFrame({\n",
    "        'Response Time': [response_time],  # Replace with your data\n",
    "        'Response Marks': [response_mark],   # Replace with your data\n",
    "        'Attendance': [attendance],      # Replace with your data\n",
    "        'Response': [user_response]         # Replace with your data\n",
    "    })\n",
    "\n",
    "# Perform clustering based on the loaded cluster centers\n",
    "    kmeans = KMeans(n_clusters=cluster_centers.shape[0], init=cluster_centers)\n",
    "\n",
    "    cluster_labels = np.argmin(np.linalg.norm(data.values[:, np.newaxis] - cluster_centers, axis=2), axis=1)\n",
    "    return cluster_labels\n",
    "\n",
    "# Example: Print the cluster labels for each data point\n",
    "for i, label in enumerate(predict_cluster(27,5,1,1)):\n",
    "    print(f\"Data point {i} is in cluster {label}\")"
   ]
  },
  {
   "cell_type": "code",
   "execution_count": 3,
   "metadata": {},
   "outputs": [
    {
     "name": "stdout",
     "output_type": "stream",
     "text": [
      " * Serving Flask app '__main__'\n",
      " * Debug mode: off\n"
     ]
    },
    {
     "name": "stderr",
     "output_type": "stream",
     "text": [
      "WARNING: This is a development server. Do not use it in a production deployment. Use a production WSGI server instead.\n",
      " * Running on http://localhost:5001\n",
      "Press CTRL+C to quit\n"
     ]
    },
    {
     "name": "stderr",
     "output_type": "stream",
     "text": [
      "127.0.0.1 - - [21/Dec/2023 13:54:37] \"GET /predict_cluster?response_mark=3&response_time=26&attendance=1&user_response=1 HTTP/1.1\" 200 -\n"
     ]
    }
   ],
   "source": [
    "from flask import Flask, request, jsonify\n",
    "import json\n",
    "import socket\n",
    "app = Flask(__name__)\n",
    "\n",
    "@app.route('/')\n",
    "def index():\n",
    "    return jsonify(\"Welcome to the home page\")\n",
    "\n",
    "@app.route('/predict_cluster', methods=['GET'])\n",
    "def predict_cluster_route():\n",
    "    #data = request.get_json()\n",
    "\n",
    "    response_mark = request.args.get('response_mark')\n",
    "    response_time = request.args.get('response_time')\n",
    "    attendance = request.args.get('attendance')\n",
    "    user_response = request.args.get('user_response')\n",
    "\n",
    "    \n",
    "    response_mark = int(response_mark)\n",
    "    response_time = int(response_time)\n",
    "    attendance = int(attendance)\n",
    "    user_response = int(user_response)\n",
    "     \n",
    "    cluster = predict_cluster(response_time, response_mark, attendance, user_response)\n",
    "\n",
    "    # Convert cluster to varchar based on conditions\n",
    "    if cluster == 0:\n",
    "        cluster_string = \"Modarate\"\n",
    "    elif cluster == 1:\n",
    "        cluster_string = \"Good\"\n",
    "    elif cluster == 2:\n",
    "        cluster_string = \"Worst\"\n",
    "    else:\n",
    "        cluster_string = \"Unknown\"  # You can provide a default value for other cases\n",
    "\n",
    "#return jsonify(cluster_string)\n",
    "    response = jsonify(cluster_string)\n",
    "    response.headers.add(\"Access-Control-Allow-Origin\", \"http://localhost:3000\")  # Adjust the origin as needed\n",
    "    response.headers.add(\"Access-Control-Allow-Methods\", \"GET\")\n",
    "    return response\n",
    "\n",
    "if __name__ == '__main__':\n",
    "    # socket.getaddrinfo('http://127.0.0.1', 5001)\n",
    "    app.run(host='localhost', port=5001)"
   ]
  }
 ],
 "metadata": {
  "kernelspec": {
   "display_name": "Python 3",
   "language": "python",
   "name": "python3"
  },
  "language_info": {
   "codemirror_mode": {
    "name": "ipython",
    "version": 3
   },
   "file_extension": ".py",
   "mimetype": "text/x-python",
   "name": "python",
   "nbconvert_exporter": "python",
   "pygments_lexer": "ipython3",
   "version": "3.12.0"
  }
 },
 "nbformat": 4,
 "nbformat_minor": 2
}
